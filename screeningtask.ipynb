{
 "cells": [
  {
   "cell_type": "code",
   "execution_count": null,
   "metadata": {
    "vscode": {
     "languageId": "plaintext"
    }
   },
   "outputs": [],
   "source": [
    "!pip install qiskit"
   ]
  },
  {
   "cell_type": "code",
   "execution_count": null,
   "metadata": {
    "vscode": {
     "languageId": "plaintext"
    }
   },
   "outputs": [],
   "source": [
    "!pip install qiskit-ibm-runtime"
   ]
  },
  {
   "cell_type": "code",
   "execution_count": null,
   "metadata": {
    "vscode": {
     "languageId": "plaintext"
    }
   },
   "outputs": [],
   "source": [
    "!pip install matplotlib"
   ]
  },
  {
   "cell_type": "code",
   "execution_count": null,
   "metadata": {
    "vscode": {
     "languageId": "plaintext"
    }
   },
   "outputs": [],
   "source": [
    "from qiskit import QuantumCircuit\n",
    "import numpy as np\n",
    "\n",
    "size = 5\n",
    "\n",
    "\n",
    "qc = QuantumCircuit(size)\n",
    "\n",
    "\n",
    "qc.h([0, 1, 2, 3, 4])\n",
    "\n",
    "\n",
    "\n",
    "qc.x(0)  \n",
    "qc.cx(1, 0)\n",
    "qc.cx(2, 3)\n",
    "\n",
    "\n",
    "qc.x(3) \n",
    "qc.cx(2, 4)\n",
    "\n",
    "\n",
    "qc.cx(1, 4)\n",
    "qc.x(1)\n",
    "\n",
    "qc.rz(np.pi/2, 4)\n",
    "\n",
    "\n",
    "qc.measure_all()\n",
    "\n",
    "\n",
    "qc.draw('mpl')"
   ]
  }
 ],
 "metadata": {
  "language_info": {
   "name": "python"
  }
 },
 "nbformat": 4,
 "nbformat_minor": 2
}
